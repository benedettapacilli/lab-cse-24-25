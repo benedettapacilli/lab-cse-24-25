{
 "cells": [
  {
   "cell_type": "markdown",
   "id": "7dd7243a-b7d3-4e47-b3ec-49cafdebada5",
   "metadata": {},
   "source": [
    "# 102 Spark basics\n",
    "\n",
    "The goal of this lab is to get familiar with Spark programming.\n",
    "\n",
    "- [Spark programming guide](https://spark.apache.org/docs/latest/rdd-programming-guide.html)\n",
    "- [RDD APIs](https://spark.apache.org/docs/latest/api/scala/org/apache/spark/rdd/RDD.html)\n",
    "- [PairRDD APIs](https://spark.apache.org/docs/latest/api/scala/org/apache/spark/rdd/PairRDDFunctions.html)"
   ]
  },
  {
   "cell_type": "code",
   "execution_count": null,
   "id": "6847eb3f9c3dfbf",
   "metadata": {
    "collapsed": false,
    "is_executing": true
   },
   "outputs": [],
   "source": [
    "import org.apache.spark.sql.SparkSession"
   ]
  },
  {
   "cell_type": "code",
   "execution_count": null,
   "id": "b2e281923de95ede",
   "metadata": {},
   "outputs": [],
   "source": [
    "// DO NOT EXECUTE - this is needed just to avoid showing errors in the following cells\n",
    "val sc = spark.SparkContext.getOrCreate()"
   ]
  },
  {
   "cell_type": "markdown",
   "id": "7f9a0be28e5e823",
   "metadata": {},
   "source": [
    "## 102-1 Spark warm-up\n",
    "\n",
    "Load the ```capra``` and ```divinacommedia``` datasets and try the following actions:\n",
    "- Show their content (```collect```)\n",
    "- Count their rows (```count```)\n",
    "- Split phrases into words (```map``` or ```flatMap```; what’s the difference?)\n",
    "- Check the results (remember: evaluation is lazy)\n",
    "- Try the ```toDebugString``` function to check the execution plan"
   ]
  },
  {
   "cell_type": "code",
   "execution_count": null,
   "id": "9cafac3cc858ad81",
   "metadata": {
    "collapsed": false,
    "is_executing": true
   },
   "outputs": [],
   "source": [
    "val rdd_capra = sc.textFile(\"../../../../datasets/capra.txt\")\n",
    "val rdd_divinacommedia = sc.textFile(\"../../../../datasets/divinacommedia.txt\")"
   ]
  },
  {
   "cell_type": "code",
   "execution_count": 3,
   "id": "42c8b6406a88d135",
   "metadata": {
    "ExecuteTime": {
     "end_time": "2024-10-16T09:27:51.224173100Z",
     "start_time": "2024-10-16T09:27:48.443799900Z"
    },
    "collapsed": false
   },
   "outputs": [
    {
     "data": {
      "text/plain": [
       "res0: Array[String] = Array(sopra la panca la capra campa, sotto la panca la capra crepa)\r\n"
      ]
     },
     "execution_count": 3,
     "metadata": {},
     "output_type": "execute_result"
    }
   ],
   "source": [
    "rdd_capra.collect()"
   ]
  },
  {
   "cell_type": "code",
   "execution_count": 4,
   "id": "28f7e45c90f8defd",
   "metadata": {
    "ExecuteTime": {
     "end_time": "2024-10-16T09:28:02.970235600Z",
     "start_time": "2024-10-16T09:28:00.535373400Z"
    },
    "collapsed": false
   },
   "outputs": [
    {
     "data": {
      "text/plain": [
       "res1: Array[String] = Array(LA DIVINA COMMEDIA, di Dante Alighieri, INFERNO, \"\", \"\", \"\", Inferno: Canto I, \"\", \"  Nel mezzo del cammin di nostra vita\", mi ritrovai per una selva oscura, ch? la diritta via era smarrita., \"  Ahi quanto a dir qual era ? cosa dura\", esta selva selvaggia e aspra e forte, che nel pensier rinova la paura!, \"  Tant'? amara che poco ? pi? morte;\", ma per trattar del ben ch'i' vi trovai,, dir? de l'altre cose ch'i' v'ho scorte., \"  Io non so ben ridir com'i' v'intrai,\", tant'era pien di sonno a quel punto, che la verace via abbandonai., \"  Ma poi ch'i' fui al pi? d'un colle giunto,\", l? dove terminava quella valle, che m'avea di paura il cor compunto,, \"  guardai in alto, e vidi le sue spalle\", vestite gi? de' raggi del pianeta, che mena dritto altrui per ogne ca...\r\n"
      ]
     },
     "execution_count": 4,
     "metadata": {},
     "output_type": "execute_result"
    }
   ],
   "source": [
    "rdd_divinacommedia.collect()"
   ]
  },
  {
   "cell_type": "code",
   "execution_count": 5,
   "id": "5889dd16d51a6be2",
   "metadata": {
    "ExecuteTime": {
     "end_time": "2024-10-16T09:28:06.994789600Z",
     "start_time": "2024-10-16T09:28:05.287858600Z"
    },
    "collapsed": false
   },
   "outputs": [
    {
     "data": {
      "text/plain": [
       "res2: Long = 2\r\n"
      ]
     },
     "execution_count": 5,
     "metadata": {},
     "output_type": "execute_result"
    }
   ],
   "source": [
    "rdd_capra.count()"
   ]
  },
  {
   "cell_type": "code",
   "execution_count": 6,
   "id": "7bab8b0ee8c1b933",
   "metadata": {
    "ExecuteTime": {
     "end_time": "2024-10-16T09:28:09.718835900Z",
     "start_time": "2024-10-16T09:28:07.530590900Z"
    },
    "collapsed": false
   },
   "outputs": [
    {
     "data": {
      "text/plain": [
       "res3: Long = 14753\r\n"
      ]
     },
     "execution_count": 6,
     "metadata": {},
     "output_type": "execute_result"
    }
   ],
   "source": [
    "rdd_divinacommedia.count()"
   ]
  },
  {
   "cell_type": "code",
   "execution_count": 7,
   "id": "5ff3d8c5d6ae6028",
   "metadata": {
    "ExecuteTime": {
     "end_time": "2024-10-16T09:28:12.635832800Z",
     "start_time": "2024-10-16T09:28:10.299940Z"
    },
    "collapsed": false
   },
   "outputs": [
    {
     "data": {
      "text/plain": [
       "res4: Array[String] = Array(sopra, la, panca, la, capra, campa, sotto, la, panca, la, capra, crepa)\r\n"
      ]
     },
     "execution_count": 7,
     "metadata": {},
     "output_type": "execute_result"
    }
   ],
   "source": [
    "rdd_capra.flatMap(line => line.split(\" \")).collect()"
   ]
  },
  {
   "cell_type": "code",
   "execution_count": 8,
   "id": "ba55da93846c6360",
   "metadata": {
    "ExecuteTime": {
     "end_time": "2024-10-16T09:28:14.756849900Z",
     "start_time": "2024-10-16T09:28:12.634835400Z"
    },
    "collapsed": false
   },
   "outputs": [
    {
     "data": {
      "text/plain": [
       "res5: Array[String] = Array(LA, DIVINA, COMMEDIA, di, Dante, Alighieri, INFERNO, \"\", \"\", \"\", Inferno:, Canto, I, \"\", \"\", \"\", Nel, mezzo, del, cammin, di, nostra, vita, mi, ritrovai, per, una, selva, oscura, ch?, la, diritta, via, era, smarrita., \"\", \"\", Ahi, quanto, a, dir, qual, era, ?, cosa, dura, esta, selva, selvaggia, e, aspra, e, forte, che, nel, pensier, rinova, la, paura!, \"\", \"\", Tant'?, amara, che, poco, ?, pi?, morte;, ma, per, trattar, del, ben, ch'i', vi, trovai,, dir?, de, l'altre, cose, ch'i', v'ho, scorte., \"\", \"\", Io, non, so, ben, ridir, com'i', v'intrai,, tant'era, pien, di, sonno, a, quel, punto, che, la, verace, via, abbandonai., \"\", \"\", Ma, poi, ch'i', fui, al, pi?, d'un, colle, giunto,, l?, dove, terminava, quella, valle, che, m'avea, di, paura, il, cor, compunto,...\r\n"
      ]
     },
     "execution_count": 8,
     "metadata": {},
     "output_type": "execute_result"
    }
   ],
   "source": [
    "rdd_divinacommedia.flatMap(line => line.split(\" \")).collect()"
   ]
  },
  {
   "cell_type": "code",
   "execution_count": 9,
   "id": "59bd86804ef8d11f",
   "metadata": {
    "ExecuteTime": {
     "end_time": "2024-10-16T09:28:17.914720400Z",
     "start_time": "2024-10-16T09:28:16.753022700Z"
    },
    "collapsed": false
   },
   "outputs": [
    {
     "data": {
      "text/plain": [
       "res6: String =\r\n",
       "(2) ../../../../datasets/capra.txt MapPartitionsRDD[1] at textFile at <console>:25 []\r\n",
       " |  ../../../../datasets/capra.txt HadoopRDD[0] at textFile at <console>:25 []\r\n"
      ]
     },
     "execution_count": 9,
     "metadata": {},
     "output_type": "execute_result"
    }
   ],
   "source": [
    "rdd_capra.toDebugString"
   ]
  },
  {
   "cell_type": "code",
   "execution_count": 10,
   "id": "fde4d4018c0eb6a6",
   "metadata": {
    "ExecuteTime": {
     "end_time": "2024-10-16T09:28:20.178228600Z",
     "start_time": "2024-10-16T09:28:19.666571300Z"
    },
    "collapsed": false
   },
   "outputs": [
    {
     "data": {
      "text/plain": [
       "res7: String =\r\n",
       "(2) ../../../../datasets/divinacommedia.txt MapPartitionsRDD[3] at textFile at <console>:26 []\r\n",
       " |  ../../../../datasets/divinacommedia.txt HadoopRDD[2] at textFile at <console>:26 []\r\n"
      ]
     },
     "execution_count": 10,
     "metadata": {},
     "output_type": "execute_result"
    }
   ],
   "source": [
    "rdd_divinacommedia.toDebugString"
   ]
  },
  {
   "cell_type": "markdown",
   "id": "84d04659ace472d8",
   "metadata": {},
   "source": [
    "## 102-2 Basic Spark jobs\n",
    "\n",
    "Implement on Spark the following jobs and test them on both capra and divinacommedia datasets.\n",
    "\n",
    "- **Word count**: count the number of occurrences of each word\n",
    "  - Result: (sopra, 1), (la, 4), …\n",
    "- **Word length count**: count the number of occurrences of words of given lengths\n",
    "  - Result: (2, 4), (5, 8)\n",
    "- Count the average length of words given their first letter (i.e., words that begin with \"s\" have an average length of 5)\n",
    "  - Result: (s, 5), (l, 2), …\n",
    "- Return the inverted index of words (i.e., for each word, list the numbers of lines in which they appear)\n",
    "  - Result: (sopra, (0)), (la, (0, 1)), ...\n",
    "\n",
    "Also, check how sorting works and try to sort key-value RDDs by descending values."
   ]
  },
  {
   "cell_type": "code",
   "execution_count": 30,
   "id": "dbb11cad2d40e089",
   "metadata": {
    "ExecuteTime": {
     "end_time": "2024-10-16T09:52:06.093189600Z",
     "start_time": "2024-10-16T09:52:05.320650600Z"
    },
    "collapsed": false
   },
   "outputs": [
    {
     "data": {
      "text/plain": [
       "word_count: (rdd: org.apache.spark.rdd.RDD[String])Array[(String, Int)]\r\n",
       "word_length_count: (rdd: org.apache.spark.rdd.RDD[String])Array[(Int, Int)]\r\n",
       "average_word_length: (rdd: org.apache.spark.rdd.RDD[String])Array[(Char, Int)]\r\n",
       "inverted_index: (rdd: org.apache.spark.rdd.RDD[String])Array[(String, Iterable[Long])]\r\n",
       "co_occurrence: (rdd: org.apache.spark.rdd.RDD[String])Array[(String, Int)]\r\n"
      ]
     },
     "execution_count": 30,
     "metadata": {},
     "output_type": "execute_result"
    }
   ],
   "source": [
    "def word_count(rdd: org.apache.spark.rdd.RDD[String]) = {\n",
    "    rdd.flatMap(line => line.split(\" \"))\n",
    "       .map(word => (word, 1))\n",
    "       .reduceByKey(_ + _)\n",
    "       .sortByKey()\n",
    "       .collect()\n",
    "}\n",
    "\n",
    "def word_length_count(rdd: org.apache.spark.rdd.RDD[String]) = {\n",
    "    rdd.flatMap(line => line.split(\" \"))\n",
    "       .map(word => (word.length, 1))\n",
    "       .reduceByKey(_ + _)\n",
    "       .collect()\n",
    "}\n",
    "\n",
    "def average_word_length(rdd: org.apache.spark.rdd.RDD[String]) = {\n",
    "  rdd.flatMap(line => line.split(\" \"))\n",
    "    .filter(word => word.nonEmpty)  // Filter out empty words\n",
    "    .map(word => (word(0), (word.length, 1)))\n",
    "    .reduceByKey((a, b) => (a._1 + b._1, a._2 + b._2))\n",
    "    .mapValues(pair => pair._1 / pair._2)\n",
    "    .collect()\n",
    "}\n",
    "\n",
    "def inverted_index(rdd: org.apache.spark.rdd.RDD[String]) = {\n",
    "    rdd.zipWithIndex()\n",
    "       .flatMap(pair => pair._1.split(\" \").map(word => (word, pair._2)))\n",
    "       .groupByKey()\n",
    "       .collect()\n",
    "}\n",
    "\n",
    "def co_occurrence(rdd: org.apache.spark.rdd.RDD[String]) = {\n",
    "    rdd.flatMap(line => line.split(\" \"))\n",
    "        .flatMap(word => word.combinations(2))\n",
    "        .map(pair => (pair.mkString(\" \"), 1))\n",
    "        .reduceByKey(_ + _)\n",
    "        .collect()\n",
    "}"
   ]
  },
  {
   "cell_type": "code",
   "execution_count": 12,
   "id": "baf282e85436468e",
   "metadata": {
    "ExecuteTime": {
     "end_time": "2024-10-16T09:28:30.811089200Z",
     "start_time": "2024-10-16T09:28:28.237998300Z"
    },
    "collapsed": false
   },
   "outputs": [
    {
     "data": {
      "text/plain": [
       "res8: Array[(String, Int)] = Array((campa,1), (capra,2), (crepa,1), (la,4), (panca,2), (sopra,1), (sotto,1))\r\n"
      ]
     },
     "execution_count": 12,
     "metadata": {},
     "output_type": "execute_result"
    }
   ],
   "source": [
    "word_count(rdd_capra)"
   ]
  },
  {
   "cell_type": "code",
   "execution_count": 13,
   "id": "8b4198038e430ac",
   "metadata": {
    "ExecuteTime": {
     "end_time": "2024-10-16T09:28:35.383477Z",
     "start_time": "2024-10-16T09:28:30.989080500Z"
    },
    "collapsed": false
   },
   "outputs": [
    {
     "data": {
      "text/plain": [
       "res9: Array[(String, Int)] = Array((\"\",10684), (!,1), (!\".,2), (!',1), (!',,1), (!'.,4), (!';,1), (\",9), (\",,4), (\".,1), (\"A,9), (\"Acci?,3), (\"Adamo\";,1), (\"Adima,1), (\"Al,2), (\"Alcun,1), (\"Alma,1), (\"Almen,1), (\"Altra,1), (\"Altri,1), (\"Ambo,1), (\"Amme!\",,1), (\"Amore,,1), (\"Anastasio,1), (\"Ancor,3), (\"Andate,1), (\"Andiamo,1), (\"Anima,1), (\"Anzi,2), (\"Apri,1), (\"Aspetta,1), (\"Assai,1), (\"Attienti,1), (\"Attienti,,1), (\"Avaccio,1), (\"Avante,1), (\"Baldezza,1), (\"Beati,1), (\"Beato,2), (\"Belacqua,,1), (\"Ben,3), (\"Bene,1), (\"Benedetto,1), (\"Brievemente,1), (\"Buon,2), (\"Capo,1), (\"Caron,,1), (\"Casella,1), (\"Certo,2), (\"Certo,,1), (\"Cesare,1), (\"Che,15), (\"Chi,15), (\"Chiedi,1), (\"Chiedi\",,1), (\"Chiunque,1), (\"Ciacco,,1), (\"Cianfa,1), (\"Ciascun,1), (\"Ci?,1), (\"Colui,3), (\"Col?\",,1), (\"Com'?,1), (...\r\n"
      ]
     },
     "execution_count": 13,
     "metadata": {},
     "output_type": "execute_result"
    }
   ],
   "source": [
    "word_count(rdd_divinacommedia)"
   ]
  },
  {
   "cell_type": "code",
   "execution_count": 14,
   "id": "39be5e6e9ec6a522",
   "metadata": {
    "ExecuteTime": {
     "end_time": "2024-10-16T09:28:37.464065100Z",
     "start_time": "2024-10-16T09:28:35.368358200Z"
    },
    "collapsed": false
   },
   "outputs": [
    {
     "data": {
      "text/plain": [
       "res10: Array[(Int, Int)] = Array((2,4), (5,8))\r\n"
      ]
     },
     "execution_count": 14,
     "metadata": {},
     "output_type": "execute_result"
    }
   ],
   "source": [
    "word_length_count(rdd_capra)"
   ]
  },
  {
   "cell_type": "code",
   "execution_count": 15,
   "id": "42c061e6d760a57a",
   "metadata": {
    "ExecuteTime": {
     "end_time": "2024-10-16T09:28:38.176034200Z",
     "start_time": "2024-10-16T09:28:37.451063600Z"
    },
    "collapsed": false
   },
   "outputs": [
    {
     "data": {
      "text/plain": [
       "res11: Array[(Int, Int)] = Array((4,9111), (16,3), (14,50), (0,10684), (6,11775), (8,5363), (12,370), (10,1741), (2,19258), (13,154), (15,18), (11,933), (1,6992), (17,1), (3,16887), (7,7379), (9,3231), (5,13504))\r\n"
      ]
     },
     "execution_count": 15,
     "metadata": {},
     "output_type": "execute_result"
    }
   ],
   "source": [
    "word_length_count(rdd_divinacommedia)"
   ]
  },
  {
   "cell_type": "code",
   "execution_count": 16,
   "id": "daf7a032f709af25",
   "metadata": {
    "ExecuteTime": {
     "end_time": "2024-10-16T09:28:39.593672500Z",
     "start_time": "2024-10-16T09:28:38.279497500Z"
    },
    "collapsed": false
   },
   "outputs": [
    {
     "data": {
      "text/plain": [
       "res12: Array[(Char, Int)] = Array((p,5), (l,2), (s,5), (c,5))\r\n"
      ]
     },
     "execution_count": 16,
     "metadata": {},
     "output_type": "execute_result"
    }
   ],
   "source": [
    "average_word_length(rdd_capra)"
   ]
  },
  {
   "cell_type": "code",
   "execution_count": 17,
   "id": "b805fb5e17755441",
   "metadata": {
    "ExecuteTime": {
     "end_time": "2024-10-16T09:28:40.955088400Z",
     "start_time": "2024-10-16T09:28:39.793372400Z"
    },
    "collapsed": false
   },
   "outputs": [
    {
     "data": {
      "text/plain": [
       "res13: Array[(Char, Int)] = Array((T,5), (d,4), (z,5), (\",4), (L,3), (p,5), (R,6), (B,7), (P,5), (t,4), (b,5), (.,1), (h,2), (n,3), (f,4), (j,4), (v,5), ((,4), (Z,6), (F,6), (V,5), (:,1), (,,1), (X,3), (N,3), (r,7), (l,3), (D,4), (',2), (s,4), (e,1), (Q,5), (G,6), (M,4), (a,3), (O,3), (;,1), (A,5), (u,3), (I,4), (o,4), (i,3), (!,2), (q,5), (-,1), (S,5), (?,1), (C,5), (E,1), (?,3), (U,5), (g,5), (m,4), (c,4))\r\n"
      ]
     },
     "execution_count": 17,
     "metadata": {},
     "output_type": "execute_result"
    }
   ],
   "source": [
    "average_word_length(rdd_divinacommedia)"
   ]
  },
  {
   "cell_type": "code",
   "execution_count": 18,
   "id": "ecbf646a1a6e0c9c",
   "metadata": {
    "ExecuteTime": {
     "end_time": "2024-10-16T09:28:43.575150900Z",
     "start_time": "2024-10-16T09:28:42.584569500Z"
    },
    "collapsed": false
   },
   "outputs": [
    {
     "data": {
      "text/plain": [
       "res14: Array[(String, Iterable[Long])] = Array((campa,CompactBuffer(0)), (la,CompactBuffer(0, 0, 1, 1)), (panca,CompactBuffer(0, 1)), (sotto,CompactBuffer(1)), (crepa,CompactBuffer(1)), (sopra,CompactBuffer(0)), (capra,CompactBuffer(0, 1)))\r\n"
      ]
     },
     "execution_count": 18,
     "metadata": {},
     "output_type": "execute_result"
    }
   ],
   "source": [
    "inverted_index(rdd_capra)"
   ]
  },
  {
   "cell_type": "code",
   "execution_count": 19,
   "id": "4332d65b24a7db2c",
   "metadata": {
    "ExecuteTime": {
     "end_time": "2024-10-16T09:28:46.286232300Z",
     "start_time": "2024-10-16T09:28:43.709557700Z"
    },
    "collapsed": false
   },
   "outputs": [
    {
     "data": {
      "text/plain": [
       "res15: Array[(String, Iterable[Long])] = Array((grand'avello,,CompactBuffer(1415)), (diseta,CompactBuffer(10716)), (vane.,CompactBuffer(8496)), (tonda,CompactBuffer(4337, 8276, 12431)), (blandimenti;,CompactBuffer(12079)), (sapore,CompactBuffer(7817)), (dando,CompactBuffer(4189, 7532, 8723)), (Verrucchio,,CompactBuffer(3758)), (Mantua,CompactBuffer(2758)), (m'apparvero,CompactBuffer(11847)), (disiderate,CompactBuffer(10196)), (dole,CompactBuffer(5454)), (moventi,CompactBuffer(10267)), (rincalzi,CompactBuffer(12933)), (freni,,CompactBuffer(2352)), (Voglia,CompactBuffer(10375)), (tormento,CompactBuffer(629, 1240, 2409, 6323, 6777)), (focina,CompactBuffer(1884)), (s?:,CompactBuffer(3305, 14101)), (marino,,CompactBuffer(5058)), (scalz?,CompactBuffer(11391)), (pensassi,CompactBuffer(8479)), ...\r\n"
      ]
     },
     "execution_count": 19,
     "metadata": {},
     "output_type": "execute_result"
    }
   ],
   "source": [
    "inverted_index(rdd_divinacommedia)"
   ]
  },
  {
   "cell_type": "code",
   "execution_count": 31,
   "id": "d6ab0d9e827db3d9",
   "metadata": {
    "ExecuteTime": {
     "end_time": "2024-10-16T09:52:09.418650500Z",
     "start_time": "2024-10-16T09:52:09.130793Z"
    },
    "collapsed": false
   },
   "outputs": [
    {
     "data": {
      "text/plain": [
       "res21: Array[(String, Int)] = Array((s o,2), (r p,1), (p n,2), (a a,5), (p r,3), (a c,2), (e a,1), (a m,1), (o o,1), (c m,1), (o a,1), (c a,4), (s a,1), (t t,1), (c e,1), (r e,1), (e p,1), (s r,1), (c r,3), (n c,2), (p c,2), (l a,4), (a n,2), (o p,1), (p a,4), (c p,4), (s t,1), (s p,1), (m p,1), (r a,2), (a p,3), (a r,2), (o r,1), (o t,1))\r\n"
      ]
     },
     "execution_count": 31,
     "metadata": {},
     "output_type": "execute_result"
    }
   ],
   "source": [
    "co_occurrence(rdd_capra)"
   ]
  },
  {
   "cell_type": "code",
   "execution_count": null,
   "id": "1f71d2f6dbc6eafc",
   "metadata": {
    "ExecuteTime": {
     "start_time": "2024-10-16T09:21:32.524896600Z"
    },
    "collapsed": false,
    "is_executing": true
   },
   "outputs": [],
   "source": [
    "co_occurrence(rdd_divinacommedia)"
   ]
  }
 ],
 "metadata": {
  "kernelspec": {
   "display_name": "Python 3",
   "language": "python",
   "name": "python3"
  },
  "language_info": {
   "codemirror_mode": {
    "name": "ipython",
    "version": 3
   },
   "file_extension": ".py",
   "mimetype": "text/x-python",
   "name": "python",
   "nbconvert_exporter": "python",
   "pygments_lexer": "ipython3",
   "version": "3.11.2"
  }
 },
 "nbformat": 4,
 "nbformat_minor": 5
}
